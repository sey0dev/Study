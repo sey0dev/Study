{
  "cells": [
    {
      "cell_type": "markdown",
      "id": "c2d71c79",
      "metadata": {
        "id": "c2d71c79"
      },
      "source": [
        "## 1. 숫자형 (Number)"
      ]
    },
    {
      "attachments": {},
      "cell_type": "markdown",
      "id": "04402167",
      "metadata": {
        "id": "04402167"
      },
      "source": [
        "### (1) 정수형 (Integer, int)\n",
        "\n",
        "- 소수점이 없는 숫자를 저장\n",
        "- 양수, 음수, 0\n",
        "- 메모리 허용 가능 범위에서 크기의 제한 없음\n",
        "- 수학 연산 가능"
      ]
    },
    {
      "cell_type": "code",
      "execution_count": null,
      "id": "4581e5c2",
      "metadata": {
        "colab": {
          "base_uri": "https://localhost:8080/"
        },
        "id": "4581e5c2",
        "outputId": "85940c34-41d3-4ee9-8ec5-8e0ae19427cd"
      },
      "outputs": [
        {
          "data": {
            "text/plain": [
              "int"
            ]
          },
          "execution_count": 82,
          "metadata": {},
          "output_type": "execute_result"
        }
      ],
      "source": [
        "# 타입 확인\n",
        "num = 3\n",
        "type(num)"
      ]
    },
    {
      "cell_type": "code",
      "execution_count": null,
      "id": "0C4mwSImJif7",
      "metadata": {
        "colab": {
          "base_uri": "https://localhost:8080/"
        },
        "id": "0C4mwSImJif7",
        "outputId": "b14f40fd-31e7-45d9-8ace-f460828977ce"
      },
      "outputs": [
        {
          "name": "stdout",
          "output_type": "stream",
          "text": [
            "더하기: 16\n",
            "빼기: 6\n",
            "곱하기: 55\n",
            "나누기: 2.2\n",
            "몫: 5\n",
            "나머지: 1\n",
            "제곱: 121\n"
          ]
        }
      ],
      "source": [
        "# 사칙연산\n",
        "\n",
        "a = 11\n",
        "b = 5\n",
        "\n",
        "print(f'더하기: {a + b}')\n",
        "print(f'빼기: {a - b}')\n",
        "print(f'곱하기: {a * b}')\n",
        "print(f'나누기: {a / b}') # 나누기 결과는 항상 실수\n",
        "\n",
        "print(f'몫: {a // 2}')\n",
        "print(f'나머지: {a % 2}')\n",
        "print(f'제곱: {a ** 2}')"
      ]
    },
    {
      "cell_type": "markdown",
      "id": "ba5ac03d",
      "metadata": {
        "id": "ba5ac03d"
      },
      "source": [
        "### (2) 실수형 (Float)\n",
        "- 소수점 아래를 표현\n",
        "- 정수와의 연산도 지원\n",
        "- 부동소수점 근사 표현 오차 존재\n",
        "  - round(값, 소수점 자리수) 함수 사용"
      ]
    },
    {
      "cell_type": "code",
      "execution_count": null,
      "id": "55c29e80",
      "metadata": {
        "colab": {
          "base_uri": "https://localhost:8080/"
        },
        "id": "55c29e80",
        "outputId": "07ca3155-15b6-4251-b770-998852f4a4d9"
      },
      "outputs": [
        {
          "data": {
            "text/plain": [
              "float"
            ]
          },
          "execution_count": 84,
          "metadata": {},
          "output_type": "execute_result"
        }
      ],
      "source": [
        "# 타입 확인\n",
        "num = 3.14\n",
        "type(num)"
      ]
    },
    {
      "cell_type": "code",
      "execution_count": null,
      "id": "h53YA9QZBEsW",
      "metadata": {
        "colab": {
          "base_uri": "https://localhost:8080/"
        },
        "id": "h53YA9QZBEsW",
        "outputId": "3e6a339d-c9ee-47dd-e680-2f8f5faf7216"
      },
      "outputs": [
        {
          "name": "stdout",
          "output_type": "stream",
          "text": [
            "더하기: 5.140000000000001\n",
            "빼기: 1.1400000000000001\n",
            "곱하기: 6.28\n",
            "나누기: 1.57\n",
            "몫: 1.0\n",
            "나머지: 1.1400000000000001\n",
            "제곱: 9.8596\n"
          ]
        }
      ],
      "source": [
        "# 사칙연산\n",
        "\n",
        "a = 3.14\n",
        "b = 2.0\n",
        "\n",
        "print(f'더하기: {a + b}')\n",
        "print(f'빼기: {a - b}')\n",
        "print(f'곱하기: {a * b}')\n",
        "print(f'나누기: {a / b}')\n",
        "\n",
        "print(f'몫: {a // 2}')\n",
        "print(f'나머지: {a % 2}')\n",
        "print(f'제곱: {a ** 2}')"
      ]
    },
    {
      "cell_type": "code",
      "execution_count": null,
      "id": "3VPDp9M4BYIa",
      "metadata": {
        "colab": {
          "base_uri": "https://localhost:8080/"
        },
        "id": "3VPDp9M4BYIa",
        "outputId": "cb480327-4b6a-4a7c-c901-a1650e22e1ca"
      },
      "outputs": [
        {
          "name": "stdout",
          "output_type": "stream",
          "text": [
            "4.14\n"
          ]
        }
      ],
      "source": [
        "# round(값, 소수점 자리수)\n",
        "\n",
        "print(round(a + b, 2))"
      ]
    },
    {
      "cell_type": "code",
      "execution_count": null,
      "id": "bYh5ZYyUNQgK",
      "metadata": {
        "colab": {
          "base_uri": "https://localhost:8080/"
        },
        "id": "bYh5ZYyUNQgK",
        "outputId": "7e637004-0b3b-41c7-d41b-40cd8a92bebe"
      },
      "outputs": [
        {
          "name": "stdout",
          "output_type": "stream",
          "text": [
            "True\n",
            "False\n"
          ]
        }
      ],
      "source": [
        "# 정수와 실수의 값은 같음\n",
        "print(10 == 10.0)\n",
        "\n",
        "# 정수와 실수의 타입은 다름\n",
        "print(type(10) == type(10.0))"
      ]
    },
    {
      "cell_type": "markdown",
      "id": "c20c87e5",
      "metadata": {
        "id": "c20c87e5"
      },
      "source": [
        "### (3) 숫자형 변환\n",
        "- 숫자형 데이터 타입은 서로 변환 가능함"
      ]
    },
    {
      "cell_type": "code",
      "execution_count": null,
      "id": "0d3a8df2",
      "metadata": {
        "colab": {
          "base_uri": "https://localhost:8080/"
        },
        "id": "0d3a8df2",
        "outputId": "bbe09b79-ea38-4952-ff44-5bf3d7b1e560"
      },
      "outputs": [
        {
          "name": "stdout",
          "output_type": "stream",
          "text": [
            "10.0\n",
            "10\n"
          ]
        }
      ],
      "source": [
        "num_int = 10\n",
        "num_float = 10.0\n",
        "\n",
        "# 정수를 실수로 변환\n",
        "print(float(num_int))\n",
        "\n",
        "# 실수를 정수로 변환\n",
        "print(int(num_float))"
      ]
    },
    {
      "cell_type": "markdown",
      "id": "010e62fb",
      "metadata": {
        "id": "010e62fb"
      },
      "source": [
        "### (4) 연산자 정리\n",
        "\n",
        "| 연산자 | 설명 | 예시 | 결과 |\n",
        "| --- | --- | --- | --- |\n",
        "| `+` | 더하기 | `5 + 3` | `8` |\n",
        "| `-` | 빼기 | `5 - 3` | `2` |\n",
        "| `*` | 곱하기 | `5 * 3` | `15` |\n",
        "| `/` | 나누기 | `5 / 2` | `2.5` |\n",
        "| `//` | 몫 | `5 // 2` | `2` |\n",
        "| `%` | 나머지 | `5 % 2` | `1` |\n",
        "| `**` | 제곱 | `2 ** 3` | `8(2^3)` |"
      ]
    }
  ],
  "metadata": {
    "colab": {
      "collapsed_sections": [
        "04402167",
        "ba5ac03d",
        "c20c87e5",
        "010e62fb"
      ],
      "provenance": []
    },
    "kernelspec": {
      "display_name": "Python 3",
      "name": "python3"
    },
    "language_info": {
      "name": "python"
    }
  },
  "nbformat": 4,
  "nbformat_minor": 5
}
