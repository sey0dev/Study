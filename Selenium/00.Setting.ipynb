{
 "cells": [
  {
   "cell_type": "code",
   "execution_count": 5,
   "id": "d571145d-f6a0-411f-8f23-10fc677e2adc",
   "metadata": {},
   "outputs": [],
   "source": [
    "from selenium import webdriver\n",
    "from selenium.webdriver.chrome.options import Options\n",
    "from selenium.webdriver.chrome.service import Service\n",
    "from webdriver_manager.chrome import ChromeDriverManager\n",
    "from selenium.webdriver.common.by import By\n",
    "\n",
    "# ChromeDriver 설치 및 경로 설정\n",
    "service = Service(ChromeDriverManager().install())\n",
    "\n",
    "# 옵션 설정\n",
    "options = Options()\n",
    "options.add_experimental_option(\"detach\", True)  # 브라우저 자동 종료 방지\n",
    "options.add_experimental_option(\"excludeSwitches\", [\"enable-logging\"])  # 로그 제거\n",
    "\n",
    "# Chrome 브라우저 실행\n",
    "browser = webdriver.Chrome(service=service, options=options)\n",
    "\n",
    "# 페이지 열기\n",
    "browser.get(\"https://www.naver.com\")"
   ]
  },
  {
   "cell_type": "code",
   "execution_count": 6,
   "id": "4f117d28-abfe-45a2-85e2-619a705b03bf",
   "metadata": {},
   "outputs": [],
   "source": [
    "# 네이버 날씨\n",
    "url = \"http://weather.naver.com\"\n",
    "browser.get(url)"
   ]
  },
  {
   "cell_type": "code",
   "execution_count": 7,
   "id": "97ae9183",
   "metadata": {},
   "outputs": [
    {
     "data": {
      "text/plain": [
       "'33.1°'"
      ]
     },
     "execution_count": 7,
     "metadata": {},
     "output_type": "execute_result"
    }
   ],
   "source": [
    "browser.find_element(By.CLASS_NAME, \"card_now_temperature\").text"
   ]
  },
  {
   "cell_type": "code",
   "execution_count": 8,
   "id": "1c2185cc-d074-4e86-b91a-40bdb898487f",
   "metadata": {},
   "outputs": [
    {
     "data": {
      "text/plain": [
       "'강남구 청담동'"
      ]
     },
     "execution_count": 8,
     "metadata": {},
     "output_type": "execute_result"
    }
   ],
   "source": [
    "browser.find_element(By.CLASS_NAME, \"location_name\").text"
   ]
  },
  {
   "cell_type": "code",
   "execution_count": 9,
   "id": "14db47ea-af55-4947-b657-110d38a18777",
   "metadata": {},
   "outputs": [],
   "source": [
    "# 네이버 부동산\n",
    "url = \"https://new.land.naver.com/complexes/12826?ms=37.5181459,127.0594676,17&a=PRE:APT&e=RETAIL\"\n",
    "browser.get(url)"
   ]
  },
  {
   "cell_type": "code",
   "execution_count": 10,
   "id": "5b4016ad-5323-48f8-ae01-7f6929d721f1",
   "metadata": {},
   "outputs": [
    {
     "data": {
      "text/plain": [
       "'유형 아파트 세대수 449세대 동수 총 3동 사용승인일 2004.03.18 면적 182.87㎡ ~ 345.15㎡'"
      ]
     },
     "execution_count": 10,
     "metadata": {},
     "output_type": "execute_result"
    }
   ],
   "source": [
    "browser.find_element(By.CLASS_NAME, \"complex_feature\").text.replace(\"\\n\", \" \")"
   ]
  },
  {
   "cell_type": "code",
   "execution_count": 11,
   "id": "e0fd1fc8-6ad5-4d29-a426-b84cf78748ca",
   "metadata": {},
   "outputs": [
    {
     "data": {
      "text/plain": [
       "['최근 매매 실거래가', '66억', '2025.06.16, 25층, 182㎡']"
      ]
     },
     "execution_count": 11,
     "metadata": {},
     "output_type": "execute_result"
    }
   ],
   "source": [
    "browser.find_element(By.CLASS_NAME, \"complex_price--trade\").text.split('\\n')"
   ]
  },
  {
   "cell_type": "code",
   "execution_count": 12,
   "id": "d0c2615a-7a0c-4c26-97c9-43408aa26e95",
   "metadata": {},
   "outputs": [
    {
     "data": {
      "text/plain": [
       "'아이파크삼성 웨스트윙동'"
      ]
     },
     "execution_count": 12,
     "metadata": {},
     "output_type": "execute_result"
    }
   ],
   "source": [
    "# 매물 1개 데이터 수집 (동, 가격, 매물정보)\n",
    "browser.find_element(By.CLASS_NAME, \"item_title\").find_element(By.CLASS_NAME, \"text\").text"
   ]
  },
  {
   "cell_type": "code",
   "execution_count": 13,
   "id": "9acf6322-5860-451e-b9ec-73e7c5d770ae",
   "metadata": {},
   "outputs": [
    {
     "data": {
      "text/plain": [
       "'아이파크삼성 웨스트윙동'"
      ]
     },
     "execution_count": 13,
     "metadata": {},
     "output_type": "execute_result"
    }
   ],
   "source": [
    "# 두가지 방식으로 집주인을 자를수있음 ㅎ\n",
    "browser.find_element(By.CLASS_NAME, \"item_title\").text.replace('집주인','')"
   ]
  },
  {
   "cell_type": "code",
   "execution_count": 14,
   "id": "2432ffe7-7b08-433e-9829-a60c2e7a6570",
   "metadata": {},
   "outputs": [
    {
     "data": {
      "text/plain": [
       "'매매150억'"
      ]
     },
     "execution_count": 14,
     "metadata": {},
     "output_type": "execute_result"
    }
   ],
   "source": [
    "browser.find_element(By.CLASS_NAME, \"price_line\").text"
   ]
  },
  {
   "cell_type": "code",
   "execution_count": 15,
   "id": "a7ed43c5-c95c-4bc1-a301-dc9b89f3296b",
   "metadata": {},
   "outputs": [
    {
     "data": {
      "text/plain": [
       "'아파트292/226m², 43/46층, 남향\\n88 아름다운 일몰 맛집 단독테라스有 귀한 펜트하우스 복층 세대'"
      ]
     },
     "execution_count": 15,
     "metadata": {},
     "output_type": "execute_result"
    }
   ],
   "source": [
    "browser.find_element(By.CLASS_NAME, 'info_area').text"
   ]
  },
  {
   "cell_type": "code",
   "execution_count": 16,
   "id": "b3111a7d-6159-4f50-958e-3c835a3f85b1",
   "metadata": {},
   "outputs": [
    {
     "name": "stdout",
     "output_type": "stream",
     "text": [
      "매매150억\n",
      "매매150억\n",
      "매매150억\n",
      "월세5억/2,000\n",
      "매매90억\n",
      "전세42억\n",
      "매매100억\n",
      "월세6억/2,000\n",
      "매매83억\n",
      "전세34억\n",
      "전세70억\n",
      "매매100억\n",
      "매매90억\n",
      "전세35억\n",
      "매매100억\n",
      "월세5억/2,000\n",
      "매매95억\n",
      "매매95억\n",
      "매매100억\n",
      "월세6억/2,000\n"
     ]
    }
   ],
   "source": [
    "# s가 붙는 순간 리스트로 바뀜\n",
    "\n",
    "data = browser.find_elements(By.CLASS_NAME, \"price_line\")\n",
    "for i in data:\n",
    "    print(i.text)"
   ]
  }
 ],
 "metadata": {
  "kernelspec": {
   "display_name": "Python 3 (ipykernel)",
   "language": "python",
   "name": "python3"
  },
  "language_info": {
   "codemirror_mode": {
    "name": "ipython",
    "version": 3
   },
   "file_extension": ".py",
   "mimetype": "text/x-python",
   "name": "python",
   "nbconvert_exporter": "python",
   "pygments_lexer": "ipython3",
   "version": "3.11.3"
  }
 },
 "nbformat": 4,
 "nbformat_minor": 5
}
